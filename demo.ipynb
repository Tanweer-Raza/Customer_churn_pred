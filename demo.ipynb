{
 "cells": [
  {
   "cell_type": "code",
   "execution_count": 35,
   "metadata": {},
   "outputs": [],
   "source": [
    "from src.churn.logger import logging\n",
    "from src.churn.exception import CustomException\n",
    "import os\n",
    "import sys\n",
    "import pandas as pd\n",
    "import numpy as np\n",
    "from src.churn.entity.artifact import DataValidationArtifact, DataTransformationArtifact\n",
    "from src.churn.entity.config import DataTransformationConfig\n",
    "from src.churn.constants.trainingpipeline import TAREGT_COLUMN_NAME, SCHEMA_FILE_PATH\n",
    "from src.churn.utils.main_utilis import read_yaml_file,save_numpy_array_data,save_object\n",
    "\n",
    "import numpy as np\n",
    "import pandas as pd\n",
    "from sklearn.pipeline import Pipeline\n",
    "from imblearn.combine import SMOTETomek\n",
    "from sklearn.impute import SimpleImputer\n",
    "from sklearn.compose import ColumnTransformer\n",
    "from sklearn.preprocessing import RobustScaler, OneHotEncoder, MinMaxScaler, LabelEncoder, StandardScaler"
   ]
  },
  {
   "cell_type": "code",
   "execution_count": 44,
   "metadata": {},
   "outputs": [],
   "source": [
    "import yaml\n",
    "def read_yaml_file(file_path: str) -> dict:\n",
    "    with open(file_path, \"rb\") as yaml_file:\n",
    "        return yaml.safe_load(yaml_file)\n",
    "_schema_config = read_yaml_file(r\"C:\\Users\\tanat\\Desktop\\Customer-Churn-main\\config\\schema.yaml\")"
   ]
  },
  {
   "cell_type": "code",
   "execution_count": 45,
   "metadata": {},
   "outputs": [],
   "source": [
    "numerical_col = _schema_config['numeric_columns']\n",
    "categorical_col = _schema_config['categorical_columns']\n",
    "\n"
   ]
  },
  {
   "cell_type": "code",
   "execution_count": 46,
   "metadata": {},
   "outputs": [],
   "source": [
    "from sklearn.compose import ColumnTransformer\n",
    "from sklearn.pipeline import Pipeline\n",
    "from sklearn.impute import SimpleImputer\n",
    "from sklearn.preprocessing import StandardScaler, OneHotEncoder\n",
    "\n",
    "def get_data_transformation_object() -> Pipeline:\n",
    "    try:\n",
    "        numerical_col = _schema_config['numeric_columns']\n",
    "        logging.info(numerical_col)\n",
    "        categorical_col = _schema_config['categorical_columns']\n",
    "        categorical_col.remove('Customer Status')  # Corrected the removal of 'Customer Status'\n",
    "\n",
    "        logging.info(\"Creating numerical Pipeline\")\n",
    "        numerical = Pipeline(\n",
    "            steps=[\n",
    "                ('Missing_numeric', SimpleImputer(strategy='mean')),\n",
    "                ('scaling', StandardScaler())\n",
    "            ]\n",
    "        )\n",
    "\n",
    "        logging.info(\"Creating categorical Pipeline\")\n",
    "        categorical = Pipeline(\n",
    "            steps=[\n",
    "                ('Missing_cat', SimpleImputer(strategy='most_frequent')),\n",
    "                (\"OHE\", OneHotEncoder(handle_unknown=\"ignore\", drop='first')),\n",
    "                ('scaling', StandardScaler(with_mean=False))\n",
    "            ]\n",
    "        )\n",
    "\n",
    "        logging.info(\"Creating object\")\n",
    "        preprocessor = ColumnTransformer(\n",
    "            transformers=[\n",
    "                ('numerical', numerical, numerical_col),\n",
    "                ('categorical', categorical, categorical_col)\n",
    "            ]\n",
    "        )\n",
    "\n",
    "        logging.info(\"Preprocessing object Created\")\n",
    "        return preprocessor\n",
    "\n",
    "    except Exception as e:\n",
    "        # Handle specific exceptions you expect here.\n",
    "        raise CustomException(e, sys)\n"
   ]
  },
  {
   "cell_type": "code",
   "execution_count": 47,
   "metadata": {},
   "outputs": [],
   "source": [
    "input_feature_train_df = pd.read_csv(r\"C:\\Users\\tanat\\Desktop\\Customer-Churn-main\\artifact\\09_29_2023_13_17_26\\Data_Validation\\Valid\\train.csv\")"
   ]
  },
  {
   "cell_type": "code",
   "execution_count": 48,
   "metadata": {},
   "outputs": [
    {
     "data": {
      "text/plain": [
       "Index(['Unnamed: 0', 'Age', 'Married', 'Offer', 'Phone Service',\n",
       "       'Avg Monthly Long Distance Charges', 'Multiple Lines', 'Internet Type',\n",
       "       'Avg Monthly GB Download', 'Online Security', 'Online Backup',\n",
       "       'Device Protection Plan', 'Premium Tech Support', 'Streaming TV',\n",
       "       'Streaming Movies', 'Streaming Music', 'Contract', 'Paperless Billing',\n",
       "       'Payment Method', 'Monthly Charge', 'Total Charges',\n",
       "       'Total Long Distance Charges', 'Customer Status'],\n",
       "      dtype='object')"
      ]
     },
     "execution_count": 48,
     "metadata": {},
     "output_type": "execute_result"
    }
   ],
   "source": [
    "input_feature_train_df.columns"
   ]
  },
  {
   "cell_type": "code",
   "execution_count": 49,
   "metadata": {},
   "outputs": [],
   "source": [
    "input_feature_train_df = input_feature_train_df.drop(['Unnamed: 0'],axis=1)"
   ]
  },
  {
   "cell_type": "code",
   "execution_count": 50,
   "metadata": {},
   "outputs": [
    {
     "data": {
      "text/plain": [
       "array([[-0.64900451, -1.10307291, -0.52157686, ...,  2.04066279,\n",
       "         0.        ,  4.52029726],\n",
       "       [-1.18542038,  0.59748267,  1.44673279, ...,  2.04066279,\n",
       "         2.05687949,  0.        ],\n",
       "       [-0.76820804,  0.30656909,  0.        , ...,  0.        ,\n",
       "         2.05687949,  0.        ],\n",
       "       ...,\n",
       "       [ 1.2582519 , -1.09570801, -0.34790248, ...,  2.04066279,\n",
       "         0.        ,  0.        ],\n",
       "       [-1.66223449, -1.77843431,  1.50462425, ...,  0.        ,\n",
       "         0.        ,  0.        ],\n",
       "       [ 0.42382722, -1.70773126,  0.23101212, ...,  2.04066279,\n",
       "         0.        ,  0.        ]])"
      ]
     },
     "execution_count": 50,
     "metadata": {},
     "output_type": "execute_result"
    }
   ],
   "source": [
    "get_data_transformation_object().fit_transform(input_feature_train_df)"
   ]
  },
  {
   "cell_type": "code",
   "execution_count": 51,
   "metadata": {},
   "outputs": [
    {
     "data": {
      "text/plain": [
       "Index(['Age', 'Married', 'Offer', 'Phone Service',\n",
       "       'Avg Monthly Long Distance Charges', 'Multiple Lines', 'Internet Type',\n",
       "       'Avg Monthly GB Download', 'Online Security', 'Online Backup',\n",
       "       'Device Protection Plan', 'Premium Tech Support', 'Streaming TV',\n",
       "       'Streaming Movies', 'Streaming Music', 'Contract', 'Paperless Billing',\n",
       "       'Payment Method', 'Monthly Charge', 'Total Charges',\n",
       "       'Total Long Distance Charges', 'Customer Status'],\n",
       "      dtype='object')"
      ]
     },
     "execution_count": 51,
     "metadata": {},
     "output_type": "execute_result"
    }
   ],
   "source": [
    "input_feature_train_df.columns"
   ]
  },
  {
   "cell_type": "code",
   "execution_count": null,
   "metadata": {},
   "outputs": [],
   "source": []
  }
 ],
 "metadata": {
  "kernelspec": {
   "display_name": "base",
   "language": "python",
   "name": "python3"
  },
  "language_info": {
   "codemirror_mode": {
    "name": "ipython",
    "version": 3
   },
   "file_extension": ".py",
   "mimetype": "text/x-python",
   "name": "python",
   "nbconvert_exporter": "python",
   "pygments_lexer": "ipython3",
   "version": "3.9.18"
  },
  "orig_nbformat": 4
 },
 "nbformat": 4,
 "nbformat_minor": 2
}
